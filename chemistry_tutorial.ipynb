{
  "nbformat": 4,
  "nbformat_minor": 0,
  "metadata": {
    "colab": {
      "provenance": [],
      "authorship_tag": "ABX9TyPvtshI8APU9Hfy38VLxQYK",
      "include_colab_link": true
    },
    "kernelspec": {
      "name": "python3",
      "display_name": "Python 3"
    },
    "language_info": {
      "name": "python"
    },
    "widgets": {
      "application/vnd.jupyter.widget-state+json": {
        "9dc5ad775bfc43d080fd20349df983d8": {
          "model_module": "jupyter-matplotlib",
          "model_name": "MPLCanvasModel",
          "model_module_version": "^0.11",
          "state": {
            "_cursor": "default",
            "_data_url": "data:image/png;base64,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",
            "_dom_classes": [],
            "_figure_label": "Figure 15",
            "_image_mode": "full",
            "_message": "x=1.840 y=0.995",
            "_model_module": "jupyter-matplotlib",
            "_model_module_version": "^0.11",
            "_model_name": "MPLCanvasModel",
            "_rubberband_height": 0,
            "_rubberband_width": 0,
            "_rubberband_x": 0,
            "_rubberband_y": 0,
            "_size": [
              720,
              720
            ],
            "_view_count": null,
            "_view_module": "jupyter-matplotlib",
            "_view_module_version": "^0.11",
            "_view_name": "MPLCanvasView",
            "capture_scroll": false,
            "footer_visible": true,
            "header_visible": true,
            "layout": "IPY_MODEL_491760efc84d46bfafb6a70ed4513928",
            "pan_zoom_throttle": 33,
            "resizable": true,
            "toolbar": "IPY_MODEL_0a15e3520d2245fa9035e5f5035e275c",
            "toolbar_position": "left",
            "toolbar_visible": "fade-in-fade-out"
          }
        },
        "491760efc84d46bfafb6a70ed4513928": {
          "model_module": "@jupyter-widgets/base",
          "model_name": "LayoutModel",
          "model_module_version": "1.2.0",
          "state": {
            "_model_module": "@jupyter-widgets/base",
            "_model_module_version": "1.2.0",
            "_model_name": "LayoutModel",
            "_view_count": null,
            "_view_module": "@jupyter-widgets/base",
            "_view_module_version": "1.2.0",
            "_view_name": "LayoutView",
            "align_content": null,
            "align_items": null,
            "align_self": null,
            "border": null,
            "bottom": null,
            "display": null,
            "flex": null,
            "flex_flow": null,
            "grid_area": null,
            "grid_auto_columns": null,
            "grid_auto_flow": null,
            "grid_auto_rows": null,
            "grid_column": null,
            "grid_gap": null,
            "grid_row": null,
            "grid_template_areas": null,
            "grid_template_columns": null,
            "grid_template_rows": null,
            "height": null,
            "justify_content": null,
            "justify_items": null,
            "left": null,
            "margin": null,
            "max_height": null,
            "max_width": null,
            "min_height": null,
            "min_width": null,
            "object_fit": null,
            "object_position": null,
            "order": null,
            "overflow": null,
            "overflow_x": null,
            "overflow_y": null,
            "padding": null,
            "right": null,
            "top": null,
            "visibility": null,
            "width": null
          }
        },
        "0a15e3520d2245fa9035e5f5035e275c": {
          "model_module": "jupyter-matplotlib",
          "model_name": "ToolbarModel",
          "model_module_version": "^0.11",
          "state": {
            "_current_action": "",
            "_dom_classes": [],
            "_model_module": "jupyter-matplotlib",
            "_model_module_version": "^0.11",
            "_model_name": "ToolbarModel",
            "_view_count": null,
            "_view_module": "jupyter-matplotlib",
            "_view_module_version": "^0.11",
            "_view_name": "ToolbarView",
            "button_style": "",
            "collapsed": true,
            "layout": "IPY_MODEL_87d6e577924c4fed94cd5671675624c3",
            "orientation": "vertical",
            "toolitems": [
              [
                "Home",
                "Reset original view",
                "home",
                "home"
              ],
              [
                "Back",
                "Back to previous view",
                "arrow-left",
                "back"
              ],
              [
                "Forward",
                "Forward to next view",
                "arrow-right",
                "forward"
              ],
              [
                "Pan",
                "Left button pans, Right button zooms\nx/y fixes axis, CTRL fixes aspect",
                "arrows",
                "pan"
              ],
              [
                "Zoom",
                "Zoom to rectangle\nx/y fixes axis",
                "square-o",
                "zoom"
              ],
              [
                "Download",
                "Download plot",
                "floppy-o",
                "save_figure"
              ]
            ]
          }
        },
        "87d6e577924c4fed94cd5671675624c3": {
          "model_module": "@jupyter-widgets/base",
          "model_name": "LayoutModel",
          "model_module_version": "1.2.0",
          "state": {
            "_model_module": "@jupyter-widgets/base",
            "_model_module_version": "1.2.0",
            "_model_name": "LayoutModel",
            "_view_count": null,
            "_view_module": "@jupyter-widgets/base",
            "_view_module_version": "1.2.0",
            "_view_name": "LayoutView",
            "align_content": null,
            "align_items": null,
            "align_self": null,
            "border": null,
            "bottom": null,
            "display": null,
            "flex": null,
            "flex_flow": null,
            "grid_area": null,
            "grid_auto_columns": null,
            "grid_auto_flow": null,
            "grid_auto_rows": null,
            "grid_column": null,
            "grid_gap": null,
            "grid_row": null,
            "grid_template_areas": null,
            "grid_template_columns": null,
            "grid_template_rows": null,
            "height": null,
            "justify_content": null,
            "justify_items": null,
            "left": null,
            "margin": null,
            "max_height": null,
            "max_width": null,
            "min_height": null,
            "min_width": null,
            "object_fit": null,
            "object_position": null,
            "order": null,
            "overflow": null,
            "overflow_x": null,
            "overflow_y": null,
            "padding": null,
            "right": null,
            "top": null,
            "visibility": null,
            "width": null
          }
        }
      }
    }
  },
  "cells": [
    {
      "cell_type": "markdown",
      "metadata": {
        "id": "view-in-github",
        "colab_type": "text"
      },
      "source": [
        "<a href=\"https://colab.research.google.com/github/maxime-langevin/datascience4chemistry/blob/main/chemistry_tutorial.ipynb\" target=\"_parent\"><img src=\"https://colab.research.google.com/assets/colab-badge.svg\" alt=\"Open In Colab\"/></a>"
      ]
    },
    {
      "cell_type": "code",
      "source": [
        "!pip install -q condacolab\n",
        "import condacolab\n",
        "condacolab.install()\n",
        "!conda install -c conda-forge rdkit"
      ],
      "metadata": {
        "colab": {
          "base_uri": "https://localhost:8080/"
        },
        "id": "KR6qNHc_JmsR",
        "outputId": "fb4f0fbc-1d5b-4e66-fecb-129745f21cf7"
      },
      "execution_count": 1,
      "outputs": [
        {
          "output_type": "stream",
          "name": "stdout",
          "text": [
            "\u001b[33mWARNING: Running pip as the 'root' user can result in broken permissions and conflicting behaviour with the system package manager. It is recommended to use a virtual environment instead: https://pip.pypa.io/warnings/venv\u001b[0m\u001b[33m\n",
            "\u001b[0m✨🍰✨ Everything looks OK!\n",
            "Collecting package metadata (current_repodata.json): - \b\b\\ \b\b| \b\b/ \b\b- \b\b\\ \b\b| \b\b/ \b\b- \b\b\\ \b\b| \b\b/ \b\b- \b\b\\ \b\b| \b\b/ \b\b- \b\b\\ \b\b| \b\b/ \b\b- \b\b\\ \b\b| \b\b/ \b\b- \b\b\\ \b\b| \b\b/ \b\b- \b\b\\ \b\b| \b\b/ \b\b- \b\b\\ \b\b| \b\b/ \b\b- \b\b\\ \b\b| \b\b/ \b\b- \b\b\\ \b\b| \b\b/ \b\b- \b\b\\ \b\b| \b\b/ \b\b- \b\b\\ \b\b| \b\b/ \b\b- \b\b\\ \b\b| \b\b/ \b\b- \b\b\\ \b\b| \b\b/ \b\b- \b\b\\ \b\b| \b\b/ \b\b- \b\b\\ \b\b| \b\b/ \b\b- \b\b\\ \b\b| \b\b/ \b\b- \b\b\\ \b\b| \b\b/ \b\b- \b\b\\ \b\b| \b\b/ \b\b- \b\b\\ \b\b| \b\b/ \b\b- \b\b\\ \b\b| \b\b/ \b\b- \b\b\\ \b\b| \b\b/ \b\b- \b\b\\ \b\b| \b\b/ \b\b- \b\b\\ \b\b| \b\b/ \b\b- \b\b\\ \b\b| \b\b/ \b\b- \b\b\\ \b\b| \b\b/ \b\b- \b\b\\ \b\b| \b\b/ \b\b- \b\b\\ \b\b| \b\b/ \b\b- \b\b\\ \b\b| \b\b/ \b\b- \b\b\\ \b\b| \b\b/ \b\b- \b\b\\ \b\b| \b\b/ \b\b- \b\b\\ \b\b| \b\b/ \b\b- \b\b\\ \b\b| \b\b/ \b\b- \b\b\\ \b\b| \b\b/ \b\b- \b\b\\ \b\b| \b\b/ \b\b- \b\b\\ \b\b| \b\b/ \b\b- \b\b\\ \b\b| \b\b/ \b\b- \b\b\\ \b\b| \b\b/ \b\b- \b\b\\ \b\b| \b\b/ \b\b- \b\b\\ \b\b| \b\b/ \b\b- \b\b\\ \b\b| \b\b/ \b\b- \b\b\\ \b\bdone\n",
            "Solving environment: / \b\b- \b\b\\ \b\b| \b\b/ \b\b- \b\b\\ \b\b| \b\b/ \b\b- \b\b\\ \b\b| \b\b/ \b\b- \b\b\\ \b\b| \b\b/ \b\b- \b\b\\ \b\b| \b\b/ \b\b- \b\b\\ \b\b| \b\b/ \b\b- \b\b\\ \b\b| \b\b/ \b\b- \b\b\\ \b\b| \b\b/ \b\b- \b\b\\ \b\b| \b\bdone\n",
            "\n",
            "# All requested packages already installed.\n",
            "\n"
          ]
        }
      ]
    },
    {
      "cell_type": "code",
      "source": [
        "from rdkit import Chem\n",
        "from rdkit.Chem import AllChem\n",
        "from rdkit.Chem import Draw\n",
        "from sklearn.decomposition import PCA\n",
        "from sklearn.manifold import TSNE\n",
        "\n",
        "%matplotlib widget\n",
        "from google.colab import output\n",
        "output.enable_custom_widget_manager()\n",
        "\n",
        "import matplotlib.pyplot as plt\n",
        "from matplotlib.offsetbox import OffsetImage, AnnotationBbox\n",
        "import numpy as np; np.random.seed(42)\n",
        "from matplotlib.widgets import Button"
      ],
      "metadata": {
        "id": "mK22nr0UKStA"
      },
      "execution_count": 5,
      "outputs": []
    },
    {
      "cell_type": "code",
      "source": [
        "SMILES = [\"Cc1ccc2c(c1)sc1c(=O)[nH]c3ccc(C(=O)NCCCN(C)C)cc3c12\",\n",
        "\"O=C(NCCN1CCOCC1)c1cc(C(F)(F)F)cc(C(F)(F)F)c1\",\n",
        "\"CC(=O)CN1C(=O)C2CC(O)CN2C(=O)c2ccccc21\",\n",
        "\"COc1cccc(NC(=O)c2oc3ccccc3c2NC(=O)c2ccc3c(c2)OCO3)c1\",\n",
        "\"COC(=O)c1nnn(CC(=O)C(CC2CCNC2=O)NC(=O)C(C)NC(=O)C(C)NC(=O)C(CC(C)C)NC(C)=O)c1C(=O)OC\",\n",
        "\"Cc1ccccc1N1C(=O)NC(=O)C(=Cc2cc(Br)c(N3CCOCC3)o2)C1=O\",\n",
        "\"COc1nc(=Nc2ccc(Cl)cc2)sn1C\",\n",
        "\"CC(C)(C)OC(=O)NC(Cc1ccc2cc(O)ccc2c1)C(=O)O\",\n",
        "\"COc1cc(N2C(N)=C(C#N)C(c3ccccc3)C3=C2CC(C)(C)CC3=O)cc(OC)c1OC\",\n",
        "\"CCC(=O)OC1(C(=O)CO)CCC2C3CCC4=CC(=O)CCC4(C)C3CCC21C\",\n",
        "\"CC(C)CC(C=O)NC(=O)C(COCc1ccccc1)NS(C)(=O)=O\",\n",
        "\"O=C(NCC1CN(c2ccc(N3Cc4cccnc4C3)c(F)c2)C(=O)O1)C1CCC1\",\n",
        "\"COc1cc(O)ccc1C=CC(=O)OCCCc1ccccc1O\",\n",
        "\"O=C1C=CC(=Nn2cccc2)C=C1\",\n",
        "\"NC(CCC(=O)Nc1ccccc1-n1cccc1)C(=O)O\"]\n",
        "\n",
        "X = [AllChem.GetMorganFingerprintAsBitVect(x, useChirality=False, radius=2) for x in [Chem.MolFromSmiles(s) for s in SMILES]]\n",
        "\n",
        "pca = PCA(n_components=2)\n",
        "tsne = TSNE(n_components=2)\n",
        "\n",
        "pca_projected = pca.fit_transform(X)\n",
        "x_pca, y_pca = pca_projected[:, 0], pca_projected[:, 1]\n",
        "\n",
        "tsne_projected = tsne.fit_transform(X)\n",
        "x_tsne, y_tsne = tsne_projected[:, 0], tsne_projected[:, 1]\n",
        "# scale tsne projection to pca values\n",
        "# more convenient for plotting on the same figure \n",
        "x_tsne = np.min(x_pca) + (np.max(x_pca)-np.min(x_pca))*(x_tsne-np.min(x_tsne))/(np.max(x_tsne)-np.min(x_tsne))\n",
        "y_tsne = np.min(y_pca) + (np.max(y_pca)-np.min(y_pca))*(y_tsne-np.min(y_tsne))/(np.max(y_tsne)-np.min(y_tsne))"
      ],
      "metadata": {
        "colab": {
          "base_uri": "https://localhost:8080/"
        },
        "id": "tKow378UJJuS",
        "outputId": "e1b14396-3635-4142-900d-250ed52b51c3"
      },
      "execution_count": 3,
      "outputs": [
        {
          "output_type": "stream",
          "name": "stderr",
          "text": [
            "/usr/local/lib/python3.8/dist-packages/sklearn/manifold/_t_sne.py:780: FutureWarning: The default initialization in TSNE will change from 'random' to 'pca' in 1.2.\n",
            "  warnings.warn(\n",
            "/usr/local/lib/python3.8/dist-packages/sklearn/manifold/_t_sne.py:790: FutureWarning: The default learning rate in TSNE will change from 200.0 to 'auto' in 1.2.\n",
            "  warnings.warn(\n"
          ]
        }
      ]
    },
    {
      "cell_type": "markdown",
      "source": [
        "Click on the figure.\n",
        "Hover over the points to show molecule corresponding to data point.\n",
        "Click on \"PCA\" or \"t-SNE\" to modify dimensionality reduction techniques."
      ],
      "metadata": {
        "id": "PvgznJFiZaGy"
      }
    },
    {
      "cell_type": "code",
      "source": [
        "# create figure and plot scatter\n",
        "fig = plt.figure(figsize=(10, 10))\n",
        "ax = fig.add_subplot(111)\n",
        "line, = ax.plot(x_pca,y_pca, ls=\"\", marker=\"o\", markersize=15)\n",
        "\n",
        "images = [Draw.MolToImage(mol, size=(250, 250)) for mol in [Chem.MolFromSmiles(s) for s in SMILES]]\n",
        "\n",
        "# create the annotations box\n",
        "im = OffsetImage(images[0], zoom=1)\n",
        "xybox=(5., 5.)\n",
        "ab = AnnotationBbox(im, (0,0), xybox=xybox, xycoords='data',\n",
        "        boxcoords=\"offset points\",  pad=0.3,  arrowprops=dict(arrowstyle=\"->\"))\n",
        "# add it to the axes and make it invisible\n",
        "ax.add_artist(ab)\n",
        "ab.set_visible(False)\n",
        "\n",
        "\n",
        "def hover(event):\n",
        "    # if the mouse is over the scatter points\n",
        "    if line.contains(event)[0]:\n",
        "        # find out the index within the array from the event\n",
        "        ind, = line.contains(event)[1][\"ind\"]\n",
        "        # get the figure size\n",
        "        w,h = fig.get_size_inches()*fig.dpi\n",
        "        ws = (event.x > w/2.)*-1 + (event.x <= w/2.) \n",
        "        hs = (event.y > h/2.)*-1 + (event.y <= h/2.)\n",
        "        # if event occurs in the top or right quadrant of the figure,\n",
        "        # change the annotation box position relative to mouse.\n",
        "        ab.xybox = (xybox[0]*ws, xybox[1]*hs)\n",
        "        # make annotation box visible\n",
        "        ab.set_visible(True)\n",
        "        # place it at the position of the hovered scatter point\n",
        "        # necessary modification to exploit relevant xy depending on button choice \n",
        "        ab.xy =(callback.x[ind], callback.y[ind])\n",
        "        # set the image corresponding to that point\n",
        "        im.set_data(images[ind])\n",
        "    else:\n",
        "        #if the mouse is not over a scatter point\n",
        "        ab.set_visible(False)\n",
        "    fig.canvas.draw_idle()\n",
        "\n",
        "# add callback for mouse moves\n",
        "fig.canvas.mpl_connect('motion_notify_event', hover) \n",
        "\n",
        "class Index:\n",
        "    x = x_pca\n",
        "    y = y_pca\n",
        "\n",
        "    def pca(self, event):\n",
        "        line.set_xdata(x_pca)\n",
        "        line.set_ydata(y_pca)\n",
        "        self.x = x_pca\n",
        "        self.y = y_pca\n",
        "        plt.draw()\n",
        "\n",
        "    def tsne(self, event):\n",
        "        line.set_xdata(x_tsne)\n",
        "        line.set_ydata(y_tsne)\n",
        "        self.x = x_tsne\n",
        "        self.y = y_tsne\n",
        "        plt.draw()\n",
        "\n",
        "callback = Index()\n",
        "axprev = fig.add_axes([0.7, 0.05, 0.1, 0.075])\n",
        "axnext = fig.add_axes([0.81, 0.05, 0.1, 0.075])\n",
        "bnext = Button(axprev, 'PCA')\n",
        "bnext.on_clicked(callback.pca)\n",
        "bprev = Button(axnext, 't-SNE')\n",
        "bprev.on_clicked(callback.tsne)\n",
        "\n",
        "plt.show()"
      ],
      "metadata": {
        "colab": {
          "base_uri": "https://localhost:8080/",
          "height": 809,
          "referenced_widgets": [
            "9dc5ad775bfc43d080fd20349df983d8",
            "491760efc84d46bfafb6a70ed4513928",
            "0a15e3520d2245fa9035e5f5035e275c",
            "87d6e577924c4fed94cd5671675624c3"
          ]
        },
        "id": "ouzyByAwHrB_",
        "outputId": "322e5f94-5d48-448f-837e-65bf1ede81f7"
      },
      "execution_count": 20,
      "outputs": [
        {
          "output_type": "display_data",
          "data": {
            "text/plain": [
              "Canvas(toolbar=Toolbar(toolitems=[('Home', 'Reset original view', 'home', 'home'), ('Back', 'Back to previous …"
            ],
            "image/png": "[encoded data removed]",
            "text/html": [
              "\n",
              "            <div style=\"display: inline-block;\">\n",
              "                <div class=\"jupyter-widgets widget-label\" style=\"text-align: center;\">\n",
              "                    Figure\n",
              "                </div>\n",
              "                <img src='data:image/png;base64,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' width=720.0/>\n",
              "            </div>\n",
              "        "
            ],
            "application/vnd.jupyter.widget-view+json": {
              "version_major": 2,
              "version_minor": 0,
              "model_id": "9dc5ad775bfc43d080fd20349df983d8"
            }
          },
          "metadata": {
            "application/vnd.jupyter.widget-view+json": {
              "colab": {
                "custom_widget_manager": {
                  "url": "https://ssl.gstatic.com/colaboratory-static/widgets/colab-cdn-widget-manager/b3e629b1971e1542/manager.min.js"
                }
              }
            }
          }
        }
      ]
    }
  ]
}